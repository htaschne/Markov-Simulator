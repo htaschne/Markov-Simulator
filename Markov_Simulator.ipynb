{
  "nbformat": 4,
  "nbformat_minor": 0,
  "metadata": {
    "colab": {
      "provenance": [],
      "collapsed_sections": [],
      "authorship_tag": "ABX9TyOxBOH75wtawK2nQ6EO2sBT",
      "include_colab_link": true
    },
    "kernelspec": {
      "name": "python3",
      "display_name": "Python 3"
    },
    "language_info": {
      "name": "python"
    }
  },
  "cells": [
    {
      "cell_type": "markdown",
      "metadata": {
        "id": "view-in-github",
        "colab_type": "text"
      },
      "source": [
        "<a href=\"https://colab.research.google.com/github/htaschne/Markov-Simulator/blob/main/Markov_Simulator.ipynb\" target=\"_parent\"><img src=\"https://colab.research.google.com/assets/colab-badge.svg\" alt=\"Open In Colab\"/></a>"
      ]
    },
    {
      "cell_type": "code",
      "execution_count": 2,
      "metadata": {
        "id": "oJqr5FP4Pkps"
      },
      "outputs": [],
      "source": [
        "\"\"\"\n",
        "Simulator taken from: https://literateprograms.org/markov_algorithm_simulator__python_.html\n",
        "\"\"\"\n",
        "def contains(s, sub):\n",
        "    return s.find(sub) != -1\n",
        "\n",
        "\n",
        "def find_rule(a, w):\n",
        "    for l, r, b in a:\n",
        "        if contains(w, l):\n",
        "            return l, r, b\n",
        "    raise ValueError(\"Not found\")\n",
        "\n",
        "\n",
        "def apply_rule(rule, s):\n",
        "    l, r, _ = rule\n",
        "    return s.replace(l, r, 1)\n",
        "\n",
        "\n",
        "def apply_alg(a, w):\n",
        "    _, _, b = r = find_rule(a, w)\n",
        "    return apply_rule(r, w), b\n",
        "\n",
        "\n",
        "def run(a, w):\n",
        "    result = []\n",
        "    flag = False\n",
        "    try:\n",
        "        while not flag:\n",
        "            result.append(w)\n",
        "            w, flag = apply_alg(a, w)\n",
        "        result.append(w)\n",
        "    except ValueError:\n",
        "        pass\n",
        "    return result"
      ]
    },
    {
      "cell_type": "code",
      "source": [
        "\"\"\"\n",
        "Test case:\n",
        "{\n",
        "  rules = [ (\"aL\", \"La\", False),\n",
        "            (\"a0\", \"0a\", False),\n",
        "            (\"a\" , \"b\" , False),\n",
        "            (\"Lb\", \"b0\", False),\n",
        "            (\"0b\", \"L\" , True ),\n",
        "            (\"b\" , \"L\" , True ),\n",
        "            (\"\"  , \"a\" , False) ],\n",
        "  chain = \"L0LL\"\n",
        "}\n",
        "\"\"\"\n",
        "\n",
        "rules = [ (\"aL\", \"La\", False),\n",
        "          (\"a0\", \"0a\", False),\n",
        "          (\"a\" , \"b\" , False),\n",
        "          (\"Lb\", \"b0\", False),\n",
        "          (\"0b\", \"L\" , True ),\n",
        "          (\"b\" , \"L\" , True ),\n",
        "          (\"\"  , \"a\" , False) ]\n",
        "\n",
        "run(rules, \"L0LL\")"
      ],
      "metadata": {
        "colab": {
          "base_uri": "https://localhost:8080/"
        },
        "id": "6VQ2KJabQo7E",
        "outputId": "8d11bd84-c7d5-40ac-b1f9-b4738d356d94"
      },
      "execution_count": 3,
      "outputs": [
        {
          "output_type": "execute_result",
          "data": {
            "text/plain": [
              "['L0LL',\n",
              " 'aL0LL',\n",
              " 'La0LL',\n",
              " 'L0aLL',\n",
              " 'L0LaL',\n",
              " 'L0LLa',\n",
              " 'L0LLb',\n",
              " 'L0Lb0',\n",
              " 'L0b00',\n",
              " 'LL00']"
            ]
          },
          "metadata": {},
          "execution_count": 3
        }
      ]
    }
  ]
}